{
 "cells": [
  {
   "cell_type": "markdown",
   "metadata": {},
   "source": [
    "# Q-Learning"
   ]
  },
  {
   "cell_type": "markdown",
   "metadata": {},
   "source": [
    "Originally from https://skettee.github.io/post/q_learning/ (in Korean)"
   ]
  },
  {
   "cell_type": "markdown",
   "metadata": {},
   "source": [
    "## Load Libraries and Extensions"
   ]
  },
  {
   "cell_type": "code",
   "execution_count": 1,
   "metadata": {
    "ExecuteTime": {
     "end_time": "2019-10-30T07:10:46.968005Z",
     "start_time": "2019-10-30T07:10:46.621083Z"
    }
   },
   "outputs": [],
   "source": [
    "%reload_ext autoreload\n",
    "%autoreload 2\n",
    "%matplotlib inline"
   ]
  },
  {
   "cell_type": "code",
   "execution_count": 2,
   "metadata": {
    "ExecuteTime": {
     "end_time": "2019-10-30T07:10:47.006017Z",
     "start_time": "2019-10-30T07:10:46.970276Z"
    }
   },
   "outputs": [],
   "source": [
    "from IPython.display import display, clear_output, Pretty\n",
    "import numpy as np\n",
    "from pprint import pprint\n",
    "from time import sleep\n",
    "from tqdm import tqdm_notebook as tqdm\n",
    "\n",
    "import gym"
   ]
  },
  {
   "cell_type": "markdown",
   "metadata": {},
   "source": [
    "## Probabilistic Frozen Lake Environment"
   ]
  },
  {
   "cell_type": "code",
   "execution_count": 3,
   "metadata": {
    "ExecuteTime": {
     "end_time": "2019-10-30T07:10:47.025063Z",
     "start_time": "2019-10-30T07:10:47.007880Z"
    }
   },
   "outputs": [],
   "source": [
    "ENV_NAME = 'FrozenLake8x8-v0'\n",
    "N_STEP = 100"
   ]
  },
  {
   "cell_type": "code",
   "execution_count": 4,
   "metadata": {
    "ExecuteTime": {
     "end_time": "2019-10-30T07:10:47.776076Z",
     "start_time": "2019-10-30T07:10:47.027089Z"
    }
   },
   "outputs": [
    {
     "data": {
      "text/plain": [
       "\n",
       "\u001b[41mS\u001b[0mFFFFFFF\n",
       "FFFFFFFF\n",
       "FFFHFFFF\n",
       "FFFFFHFF\n",
       "FFFHFFFF\n",
       "FHHFFFHF\n",
       "FHFFHFHF\n",
       "FFFHFFFG\n"
      ]
     },
     "metadata": {},
     "output_type": "display_data"
    }
   ],
   "source": [
    "env = gym.make(ENV_NAME)\n",
    "state = env.reset()\n",
    "\n",
    "world = env.render(mode='ansi')\n",
    "display(Pretty(world))\n",
    "sleep(0.5)"
   ]
  },
  {
   "cell_type": "code",
   "execution_count": 5,
   "metadata": {
    "ExecuteTime": {
     "end_time": "2019-10-30T07:11:13.153267Z",
     "start_time": "2019-10-30T07:10:47.778410Z"
    }
   },
   "outputs": [
    {
     "data": {
      "text/plain": [
       "  (Right)\n",
       "SFFFFFFF\n",
       "FFFFFFFF\n",
       "FFF\u001b[41mH\u001b[0mFFFF\n",
       "FFFFFHFF\n",
       "FFFHFFFF\n",
       "FHHFFFHF\n",
       "FHFFHFHF\n",
       "FFFHFFFG\n"
      ]
     },
     "metadata": {},
     "output_type": "display_data"
    },
    {
     "name": "stdout",
     "output_type": "stream",
     "text": [
      "Episode finished after 50 timesteps\n"
     ]
    }
   ],
   "source": [
    "for step in range(N_STEP):\n",
    "    action =env.action_space.sample()\n",
    "    next_state, reward, done, info = env.step(action)    \n",
    "    state = next_state\n",
    "    \n",
    "    # updated world display\n",
    "    world = env.render(mode='ansi')\n",
    "    clear_output(wait=True)\n",
    "    display(Pretty(world))\n",
    "    sleep(0.5)\n",
    "    \n",
    "    if done: # an episode finished\n",
    "        print(\"Episode finished after {} timesteps\".format(step+1))\n",
    "        break"
   ]
  },
  {
   "cell_type": "code",
   "execution_count": 6,
   "metadata": {
    "ExecuteTime": {
     "end_time": "2019-10-30T07:11:13.184529Z",
     "start_time": "2019-10-30T07:11:13.155738Z"
    }
   },
   "outputs": [
    {
     "name": "stdout",
     "output_type": "stream",
     "text": [
      "{0: [(0.3333333333333333, 47, 0.0, False),\n",
      "     (0.3333333333333333, 54, 0.0, True),\n",
      "     (0.3333333333333333, 63, 1.0, True)],\n",
      " 1: [(0.3333333333333333, 54, 0.0, True),\n",
      "     (0.3333333333333333, 63, 1.0, True),\n",
      "     (0.3333333333333333, 55, 0.0, False)],\n",
      " 2: [(0.3333333333333333, 63, 1.0, True),\n",
      "     (0.3333333333333333, 55, 0.0, False),\n",
      "     (0.3333333333333333, 47, 0.0, False)],\n",
      " 3: [(0.3333333333333333, 55, 0.0, False),\n",
      "     (0.3333333333333333, 47, 0.0, False),\n",
      "     (0.3333333333333333, 54, 0.0, True)]}\n"
     ]
    }
   ],
   "source": [
    "pprint(env.P[55])"
   ]
  },
  {
   "cell_type": "markdown",
   "metadata": {
    "ExecuteTime": {
     "end_time": "2019-10-29T01:30:23.309665Z",
     "start_time": "2019-10-29T01:30:23.281565Z"
    }
   },
   "source": [
    "It moves to the intended direction only with 1/3 of chance."
   ]
  },
  {
   "cell_type": "markdown",
   "metadata": {},
   "source": [
    "## Q-Learning"
   ]
  },
  {
   "cell_type": "markdown",
   "metadata": {},
   "source": [
    "$Q(S_t, A_t) \\leftarrow Q(S_t, A_t) + \\alpha \\left( R_{t+1} + \\gamma \\max_{a'} Q(S_{t+1}, a') - Q(S_t, A_t) \\right)$"
   ]
  },
  {
   "cell_type": "code",
   "execution_count": 7,
   "metadata": {
    "ExecuteTime": {
     "end_time": "2019-10-30T07:11:13.211960Z",
     "start_time": "2019-10-30T07:11:13.187348Z"
    }
   },
   "outputs": [],
   "source": [
    "n_state = env.observation_space.n\n",
    "n_action = env.action_space.n\n",
    "n_episode = 5000\n",
    "GAMMA = .9\n",
    "EPSILON = .3\n",
    "ALPHA = .1"
   ]
  },
  {
   "cell_type": "code",
   "execution_count": 8,
   "metadata": {
    "ExecuteTime": {
     "end_time": "2019-10-30T07:11:16.723229Z",
     "start_time": "2019-10-30T07:11:13.214105Z"
    }
   },
   "outputs": [
    {
     "data": {
      "application/vnd.jupyter.widget-view+json": {
       "model_id": "dfc4af3594284ff89585e51c7432630b",
       "version_major": 2,
       "version_minor": 0
      },
      "text/plain": [
       "HBox(children=(IntProgress(value=0, max=5000), HTML(value='')))"
      ]
     },
     "metadata": {},
     "output_type": "display_data"
    },
    {
     "name": "stdout",
     "output_type": "stream",
     "text": [
      "\n"
     ]
    }
   ],
   "source": [
    "terminal_states = [19, 29, 35, 41, 42, 49, 52, 54, 59, 63]\n",
    "\n",
    "Q_table = np.random.uniform(low=0.0, high=0.00000001, size=(n_state, n_action))\n",
    "for s in terminal_states:\n",
    "    Q_table[s] = 0\n",
    "    \n",
    "for episode in tqdm(range(n_episode)):\n",
    "    state = env.reset()\n",
    "    done = False\n",
    "    \n",
    "    while not done:\n",
    "        if np.random.uniform() < EPSILON:\n",
    "            action = env.action_space.sample()\n",
    "        else:\n",
    "            action = np.argmax(Q_table[state])\n",
    "        next_state, reward, done, info = env.step(action)\n",
    "        \n",
    "        target = reward + GAMMA * Q_table[next_state, np.argmax(Q_table[next_state])]\n",
    "        delta = target - Q_table[state][action]\n",
    "        Q_table[state][action] += ALPHA * delta\n",
    "        state = next_state"
   ]
  },
  {
   "cell_type": "markdown",
   "metadata": {},
   "source": [
    "## Solution"
   ]
  },
  {
   "cell_type": "code",
   "execution_count": 9,
   "metadata": {
    "ExecuteTime": {
     "end_time": "2019-10-30T07:11:57.754903Z",
     "start_time": "2019-10-30T07:11:16.724683Z"
    }
   },
   "outputs": [
    {
     "data": {
      "text/plain": [
       "  (Right)\n",
       "SFFFFFFF\n",
       "FFFFFFFF\n",
       "FFFHFFFF\n",
       "FFFFFHFF\n",
       "FFFHFFFF\n",
       "FHHFFFHF\n",
       "FHFFHFHF\n",
       "FFFHFFF\u001b[41mG\u001b[0m\n"
      ]
     },
     "metadata": {},
     "output_type": "display_data"
    },
    {
     "name": "stdout",
     "output_type": "stream",
     "text": [
      "\n",
      "Success!\n"
     ]
    }
   ],
   "source": [
    "state = env.reset()\n",
    "done = False\n",
    "\n",
    "world = env.render(mode='ansi')\n",
    "display(Pretty(world))\n",
    "sleep(.5)\n",
    "\n",
    "while not done:\n",
    "    action = np.argmax(Q_table[state])\n",
    "    state, reward, done, info = env.step(action)\n",
    "    \n",
    "    world = env.render(mode='ansi')\n",
    "    clear_output(wait=True)\n",
    "    display(Pretty(world))\n",
    "    sleep(.5)\n",
    "    \n",
    "    if done and state == 63:\n",
    "        print('\\nSuccess!')"
   ]
  },
  {
   "cell_type": "code",
   "execution_count": null,
   "metadata": {},
   "outputs": [],
   "source": []
  }
 ],
 "metadata": {
  "kernelspec": {
   "display_name": "Python 3",
   "language": "python",
   "name": "python3"
  },
  "language_info": {
   "codemirror_mode": {
    "name": "ipython",
    "version": 3
   },
   "file_extension": ".py",
   "mimetype": "text/x-python",
   "name": "python",
   "nbconvert_exporter": "python",
   "pygments_lexer": "ipython3",
   "version": "3.6.0"
  },
  "toc": {
   "base_numbering": 1,
   "nav_menu": {},
   "number_sections": true,
   "sideBar": true,
   "skip_h1_title": true,
   "title_cell": "Table of Contents",
   "title_sidebar": "Contents",
   "toc_cell": false,
   "toc_position": {},
   "toc_section_display": true,
   "toc_window_display": true
  }
 },
 "nbformat": 4,
 "nbformat_minor": 2
}
