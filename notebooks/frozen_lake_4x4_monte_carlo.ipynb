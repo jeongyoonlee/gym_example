{
 "cells": [
  {
   "cell_type": "markdown",
   "metadata": {},
   "source": [
    "# Gym Intro + Monte Carlo Learning"
   ]
  },
  {
   "cell_type": "markdown",
   "metadata": {},
   "source": [
    "Originally from https://skettee.github.io/post/monte_carlo_learning/ (in Korean)"
   ]
  },
  {
   "cell_type": "markdown",
   "metadata": {},
   "source": [
    "## Load Libraries and Extensions"
   ]
  },
  {
   "cell_type": "code",
   "execution_count": 1,
   "metadata": {
    "ExecuteTime": {
     "end_time": "2019-10-30T07:07:52.632070Z",
     "start_time": "2019-10-30T07:07:52.184909Z"
    }
   },
   "outputs": [],
   "source": [
    "%reload_ext autoreload\n",
    "%autoreload 2\n",
    "%matplotlib inline"
   ]
  },
  {
   "cell_type": "code",
   "execution_count": 2,
   "metadata": {
    "ExecuteTime": {
     "end_time": "2019-10-30T07:07:52.670204Z",
     "start_time": "2019-10-30T07:07:52.634211Z"
    }
   },
   "outputs": [],
   "source": [
    "from IPython.display import display, clear_output, Pretty\n",
    "import numpy as np\n",
    "from time import sleep\n",
    "from tqdm import tqdm_notebook as tqdm\n",
    "\n",
    "import gym"
   ]
  },
  {
   "cell_type": "markdown",
   "metadata": {},
   "source": [
    "## Frozen Lake Environment"
   ]
  },
  {
   "cell_type": "code",
   "execution_count": 3,
   "metadata": {
    "ExecuteTime": {
     "end_time": "2019-10-30T07:07:52.689701Z",
     "start_time": "2019-10-30T07:07:52.672210Z"
    }
   },
   "outputs": [],
   "source": [
    "ENV_NAME = 'FrozenLake-v0'\n",
    "N_STEP = 100"
   ]
  },
  {
   "cell_type": "code",
   "execution_count": 4,
   "metadata": {
    "ExecuteTime": {
     "end_time": "2019-10-30T07:07:53.013132Z",
     "start_time": "2019-10-30T07:07:52.691595Z"
    }
   },
   "outputs": [],
   "source": [
    "env = gym.make(ENV_NAME, is_slippery=False)\n",
    "state = env.reset()"
   ]
  },
  {
   "cell_type": "code",
   "execution_count": 5,
   "metadata": {
    "ExecuteTime": {
     "end_time": "2019-10-30T07:07:53.037760Z",
     "start_time": "2019-10-30T07:07:53.014735Z"
    }
   },
   "outputs": [
    {
     "data": {
      "text/plain": [
       "\n",
       "\u001b[41mS\u001b[0mFFF\n",
       "FHFH\n",
       "FFFH\n",
       "HFFG\n"
      ]
     },
     "execution_count": 5,
     "metadata": {},
     "output_type": "execute_result"
    }
   ],
   "source": [
    "world = env.render(mode='ansi')\n",
    "Pretty(world)"
   ]
  },
  {
   "cell_type": "code",
   "execution_count": 6,
   "metadata": {
    "ExecuteTime": {
     "end_time": "2019-10-30T07:07:54.081039Z",
     "start_time": "2019-10-30T07:07:53.039576Z"
    }
   },
   "outputs": [
    {
     "data": {
      "text/plain": [
       "  (Right)\n",
       "SFFF\n",
       "F\u001b[41mH\u001b[0mFH\n",
       "FFFH\n",
       "HFFG\n"
      ]
     },
     "metadata": {},
     "output_type": "display_data"
    },
    {
     "name": "stdout",
     "output_type": "stream",
     "text": [
      "Episode finished after 2 timesteps\n"
     ]
    }
   ],
   "source": [
    "for step in range(N_STEP):\n",
    "    action = env.action_space.sample()\n",
    "    next_state, reward, done, info = env.step(action)    \n",
    "    state = next_state\n",
    "    \n",
    "    # updated world display\n",
    "    world = env.render(mode='ansi')\n",
    "    clear_output(wait=True)\n",
    "    display(Pretty(world))\n",
    "    sleep(0.5)\n",
    "    \n",
    "    if done: # an episode finished\n",
    "        print(\"Episode finished after {} timesteps\".format(step + 1))\n",
    "        break"
   ]
  },
  {
   "cell_type": "code",
   "execution_count": 7,
   "metadata": {
    "ExecuteTime": {
     "end_time": "2019-10-30T07:07:54.108662Z",
     "start_time": "2019-10-30T07:07:54.084507Z"
    }
   },
   "outputs": [
    {
     "data": {
      "text/plain": [
       "Discrete(4)"
      ]
     },
     "execution_count": 7,
     "metadata": {},
     "output_type": "execute_result"
    }
   ],
   "source": [
    "env.action_space"
   ]
  },
  {
   "cell_type": "markdown",
   "metadata": {},
   "source": [
    "There are 4 actions in Fronzen Lake.\n",
    "\n",
    "$A = \\{0, 1, 2, 3\\}$   \n",
    "\n",
    "Num\t| Action\n",
    "----|----\n",
    "0 |\tMove Left\n",
    "1 |\tMove Down\n",
    "2 |\tMove Right\n",
    "3 |\tMove Up"
   ]
  },
  {
   "cell_type": "code",
   "execution_count": 8,
   "metadata": {
    "ExecuteTime": {
     "end_time": "2019-10-30T07:07:54.134957Z",
     "start_time": "2019-10-30T07:07:54.111158Z"
    }
   },
   "outputs": [
    {
     "data": {
      "text/plain": [
       "Discrete(16)"
      ]
     },
     "execution_count": 8,
     "metadata": {},
     "output_type": "execute_result"
    }
   ],
   "source": [
    "env.observation_space"
   ]
  },
  {
   "cell_type": "markdown",
   "metadata": {
    "ExecuteTime": {
     "end_time": "2019-10-29T01:11:38.003947Z",
     "start_time": "2019-10-29T01:11:37.976866Z"
    }
   },
   "source": [
    "There are 16 states as follows:\n",
    "\n",
    "$S = \\{0, 1, \\cdots , 15\\}$   \n",
    "\n",
    "$\\begin{vmatrix}\n",
    "0 & 1 & 2 & 3 \\\\\n",
    "4 & 5 & 6 & 7 \\\\\n",
    "8 & 9 & 10 & 11 \\\\\n",
    "12 & 13 & 14 & 15\n",
    "\\end{vmatrix}$\n",
    "\n",
    "For each state, there are actions possible associated with next state, reward, and done as follows:\n",
    "    \n",
    "`{action: [(probability, nextstate, reward, done)]}`  \n",
    "\n",
    "For example, let's look at State 6 and 14:"
   ]
  },
  {
   "cell_type": "code",
   "execution_count": 9,
   "metadata": {
    "ExecuteTime": {
     "end_time": "2019-10-30T07:07:54.162633Z",
     "start_time": "2019-10-30T07:07:54.137350Z"
    }
   },
   "outputs": [
    {
     "data": {
      "text/plain": [
       "{0: [(1.0, 5, 0.0, True)],\n",
       " 1: [(1.0, 10, 0.0, False)],\n",
       " 2: [(1.0, 7, 0.0, True)],\n",
       " 3: [(1.0, 2, 0.0, False)]}"
      ]
     },
     "execution_count": 9,
     "metadata": {},
     "output_type": "execute_result"
    }
   ],
   "source": [
    "env.P[6]"
   ]
  },
  {
   "cell_type": "code",
   "execution_count": 10,
   "metadata": {
    "ExecuteTime": {
     "end_time": "2019-10-30T07:07:54.190104Z",
     "start_time": "2019-10-30T07:07:54.164728Z"
    }
   },
   "outputs": [
    {
     "data": {
      "text/plain": [
       "{0: [(1.0, 13, 0.0, False)],\n",
       " 1: [(1.0, 14, 0.0, False)],\n",
       " 2: [(1.0, 15, 1.0, True)],\n",
       " 3: [(1.0, 10, 0.0, False)]}"
      ]
     },
     "execution_count": 10,
     "metadata": {},
     "output_type": "execute_result"
    }
   ],
   "source": [
    "env.P[14]"
   ]
  },
  {
   "cell_type": "markdown",
   "metadata": {},
   "source": [
    "## Monte Carlo Learning"
   ]
  },
  {
   "cell_type": "markdown",
   "metadata": {},
   "source": [
    "$G_t = R_{t+1} + \\gamma R_{t+2} + \\cdots + = \\sum_{k=0}^{\\infty} \\gamma^{k} R_{t+k+1}$\n",
    "\n",
    "$q_{\\pi}(s,a) = \\mathbb E_{\\pi} [G_t | S_t = s, A_t = a]$ \n",
    "\n",
    "$q_*(s,a) = \\max_{\\pi} q_{\\pi}(s,a)$ \n",
    "\n",
    "$ \\pi_*(s, a) = \\begin{cases}\n",
    "1 & \\text{if } a= \\text{argmax}_{a \\in A} q_\\star(s,a) \\\\\n",
    "0 & \\text{otherwise}\n",
    "\\end{cases} $\n",
    "\n",
    "$\\begin{align}\n",
    "N(S_t, A_t) & \\leftarrow N(S_t, A_t) + 1 \\\\\n",
    "Q(S_t, A_t) & \\leftarrow Q(S_t, A_t) + \\dfrac{1}{N(S_t, A_t)} \\left( G_t - Q(S_t, A_t) \\right)  \n",
    "\\end{align}$"
   ]
  },
  {
   "cell_type": "code",
   "execution_count": 11,
   "metadata": {
    "ExecuteTime": {
     "end_time": "2019-10-30T07:07:54.215099Z",
     "start_time": "2019-10-30T07:07:54.191844Z"
    }
   },
   "outputs": [],
   "source": [
    "n_state = env.observation_space.n\n",
    "n_action = env.action_space.n\n",
    "n_episode = 5000\n",
    "GAMMA = .6"
   ]
  },
  {
   "cell_type": "code",
   "execution_count": 12,
   "metadata": {
    "ExecuteTime": {
     "end_time": "2019-10-30T07:07:55.135088Z",
     "start_time": "2019-10-30T07:07:54.216988Z"
    }
   },
   "outputs": [
    {
     "data": {
      "application/vnd.jupyter.widget-view+json": {
       "model_id": "0f844a9b9e5f4a77adb483b07617e9f1",
       "version_major": 2,
       "version_minor": 0
      },
      "text/plain": [
       "HBox(children=(IntProgress(value=0, max=5000), HTML(value='')))"
      ]
     },
     "metadata": {},
     "output_type": "display_data"
    },
    {
     "name": "stdout",
     "output_type": "stream",
     "text": [
      "\n"
     ]
    }
   ],
   "source": [
    "Q_table = np.zeros((n_state, n_action))\n",
    "N_table = np.zeros((n_state, n_action))\n",
    "R_table = np.zeros((n_state, n_action))\n",
    "\n",
    "for episode in tqdm(range(n_episode)):\n",
    "    memory = []\n",
    "    state = env.reset()\n",
    "    \n",
    "    for step in range(N_STEP):\n",
    "        action = env.action_space.sample()\n",
    "        memory.append((state, action))\n",
    "        \n",
    "        next_state, reward, done, info = env.step(action)\n",
    "        R_table[state][action] = reward\n",
    "        state = next_state\n",
    "        \n",
    "        if done:\n",
    "            for i in range(len(memory)):\n",
    "                G_t = 0\n",
    "                gamma = GAMMA\n",
    "                for j in range(i, len(memory)):\n",
    "                    S_t, A_t = memory[j]\n",
    "                    if i == j:\n",
    "                        G_t += R_table[S_t][A_t]\n",
    "                    else:\n",
    "                        G_t += gamma * R_table[S_t][A_t]\n",
    "                        gamma = gamma * gamma\n",
    "                S_t, A_t = memory[i]\n",
    "                N_table[S_t][A_t] += 1\n",
    "                Q_table[S_t][A_t] += (G_t - Q_table[S_t][A_t]) / N_table[S_t][A_t]\n",
    "            break"
   ]
  },
  {
   "cell_type": "markdown",
   "metadata": {},
   "source": [
    "## Solution"
   ]
  },
  {
   "cell_type": "code",
   "execution_count": 13,
   "metadata": {
    "ExecuteTime": {
     "end_time": "2019-10-30T07:07:55.661848Z",
     "start_time": "2019-10-30T07:07:55.136728Z"
    }
   },
   "outputs": [
    {
     "data": {
      "text/plain": [
       "\n",
       "\u001b[41mS\u001b[0mFFF\n",
       "FHFH\n",
       "FFFH\n",
       "HFFG\n"
      ]
     },
     "metadata": {},
     "output_type": "display_data"
    }
   ],
   "source": [
    "state = env.reset()\n",
    "done = False\n",
    "\n",
    "world = env.render(mode='ansi')\n",
    "display(Pretty(world))\n",
    "sleep(.5)"
   ]
  },
  {
   "cell_type": "code",
   "execution_count": 14,
   "metadata": {
    "ExecuteTime": {
     "end_time": "2019-10-30T07:07:58.720341Z",
     "start_time": "2019-10-30T07:07:55.664976Z"
    }
   },
   "outputs": [
    {
     "data": {
      "text/plain": [
       "  (Right)\n",
       "SFFF\n",
       "FHFH\n",
       "FFFH\n",
       "HFF\u001b[41mG\u001b[0m\n"
      ]
     },
     "metadata": {},
     "output_type": "display_data"
    },
    {
     "name": "stdout",
     "output_type": "stream",
     "text": [
      "\n",
      "Success!\n"
     ]
    }
   ],
   "source": [
    "while not done:\n",
    "    action = np.argmax(Q_table[state])\n",
    "    state, reward, done, info = env.step(action)\n",
    "    \n",
    "    world = env.render(mode='ansi')\n",
    "    clear_output(wait=True)\n",
    "    display(Pretty(world))\n",
    "    sleep(.5)\n",
    "    \n",
    "    if done and state == 15:\n",
    "        print('\\nSuccess!')"
   ]
  },
  {
   "cell_type": "code",
   "execution_count": null,
   "metadata": {},
   "outputs": [],
   "source": []
  }
 ],
 "metadata": {
  "kernelspec": {
   "display_name": "Python 3",
   "language": "python",
   "name": "python3"
  },
  "language_info": {
   "codemirror_mode": {
    "name": "ipython",
    "version": 3
   },
   "file_extension": ".py",
   "mimetype": "text/x-python",
   "name": "python",
   "nbconvert_exporter": "python",
   "pygments_lexer": "ipython3",
   "version": "3.6.0"
  },
  "toc": {
   "base_numbering": 1,
   "nav_menu": {},
   "number_sections": true,
   "sideBar": true,
   "skip_h1_title": true,
   "title_cell": "Table of Contents",
   "title_sidebar": "Contents",
   "toc_cell": false,
   "toc_position": {},
   "toc_section_display": true,
   "toc_window_display": true
  }
 },
 "nbformat": 4,
 "nbformat_minor": 2
}
