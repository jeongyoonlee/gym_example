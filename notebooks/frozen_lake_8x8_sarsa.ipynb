{
 "cells": [
  {
   "cell_type": "markdown",
   "metadata": {},
   "source": [
    "# SARSA Learning"
   ]
  },
  {
   "cell_type": "markdown",
   "metadata": {},
   "source": [
    "Originally from https://skettee.github.io/post/sarsa_learning/ (in Korean)"
   ]
  },
  {
   "cell_type": "markdown",
   "metadata": {},
   "source": [
    "## Load Libraries and Extensions"
   ]
  },
  {
   "cell_type": "code",
   "execution_count": 1,
   "metadata": {
    "ExecuteTime": {
     "end_time": "2019-10-30T07:08:50.022416Z",
     "start_time": "2019-10-30T07:08:49.674037Z"
    }
   },
   "outputs": [],
   "source": [
    "%reload_ext autoreload\n",
    "%autoreload 2\n",
    "%matplotlib inline"
   ]
  },
  {
   "cell_type": "code",
   "execution_count": 2,
   "metadata": {
    "ExecuteTime": {
     "end_time": "2019-10-30T07:08:50.141418Z",
     "start_time": "2019-10-30T07:08:50.102752Z"
    }
   },
   "outputs": [],
   "source": [
    "from IPython.display import display, clear_output, Pretty\n",
    "import numpy as np\n",
    "from time import sleep\n",
    "from tqdm import tqdm_notebook as tqdm\n",
    "\n",
    "import gym"
   ]
  },
  {
   "cell_type": "markdown",
   "metadata": {},
   "source": [
    "## Frozen Lake Environment"
   ]
  },
  {
   "cell_type": "code",
   "execution_count": 3,
   "metadata": {
    "ExecuteTime": {
     "end_time": "2019-10-30T07:08:51.013199Z",
     "start_time": "2019-10-30T07:08:50.993667Z"
    }
   },
   "outputs": [],
   "source": [
    "ENV_NAME = 'FrozenLake8x8-v0'\n",
    "N_STEP = 100"
   ]
  },
  {
   "cell_type": "code",
   "execution_count": 4,
   "metadata": {
    "ExecuteTime": {
     "end_time": "2019-10-30T07:08:52.180682Z",
     "start_time": "2019-10-30T07:08:51.425279Z"
    }
   },
   "outputs": [
    {
     "data": {
      "text/plain": [
       "\n",
       "\u001b[41mS\u001b[0mFFFFFFF\n",
       "FFFFFFFF\n",
       "FFFHFFFF\n",
       "FFFFFHFF\n",
       "FFFHFFFF\n",
       "FHHFFFHF\n",
       "FHFFHFHF\n",
       "FFFHFFFG\n"
      ]
     },
     "metadata": {},
     "output_type": "display_data"
    }
   ],
   "source": [
    "env = gym.make(ENV_NAME, is_slippery=False)\n",
    "state = env.reset()\n",
    "\n",
    "world = env.render(mode='ansi')\n",
    "display(Pretty(world))\n",
    "sleep(0.5)"
   ]
  },
  {
   "cell_type": "code",
   "execution_count": 5,
   "metadata": {
    "ExecuteTime": {
     "end_time": "2019-10-30T07:09:17.616148Z",
     "start_time": "2019-10-30T07:08:53.306534Z"
    }
   },
   "outputs": [
    {
     "data": {
      "text/plain": [
       "  (Down)\n",
       "SFFFFFFF\n",
       "FFFFFFFF\n",
       "FFFHFFFF\n",
       "FFFFFHFF\n",
       "FFFHFFFF\n",
       "F\u001b[41mH\u001b[0mHFFFHF\n",
       "FHFFHFHF\n",
       "FFFHFFFG\n"
      ]
     },
     "metadata": {},
     "output_type": "display_data"
    },
    {
     "name": "stdout",
     "output_type": "stream",
     "text": [
      "Episode finished after 48 timesteps\n"
     ]
    }
   ],
   "source": [
    "for step in range(N_STEP):\n",
    "    action =env.action_space.sample()\n",
    "    next_state, reward, done, info = env.step(action)    \n",
    "    state = next_state\n",
    "    \n",
    "    # updated world display\n",
    "    world = env.render(mode='ansi')\n",
    "    clear_output(wait=True)\n",
    "    display(Pretty(world))\n",
    "    sleep(0.5)\n",
    "    \n",
    "    if done: # an episode finished\n",
    "        print(\"Episode finished after {} timesteps\".format(step+1))\n",
    "        break"
   ]
  },
  {
   "cell_type": "code",
   "execution_count": 6,
   "metadata": {
    "ExecuteTime": {
     "end_time": "2019-10-30T07:09:21.826367Z",
     "start_time": "2019-10-30T07:09:21.802043Z"
    }
   },
   "outputs": [
    {
     "data": {
      "text/plain": [
       "Discrete(64)"
      ]
     },
     "execution_count": 6,
     "metadata": {},
     "output_type": "execute_result"
    }
   ],
   "source": [
    "env.observation_space"
   ]
  },
  {
   "cell_type": "markdown",
   "metadata": {
    "ExecuteTime": {
     "end_time": "2019-10-29T01:30:23.309665Z",
     "start_time": "2019-10-29T01:30:23.281565Z"
    }
   },
   "source": [
    "There are 64 states as follows:\n",
    "\n",
    "$S = \\{0, 1, \\cdots , 63\\}$   \n",
    "\n",
    "$\\begin{vmatrix}\n",
    "0 & 1 & 2 & 3 & 4 & 5 & 6 & 7 \\\\\n",
    "8 & 9 & 10 & 11 & 12 & 13 & 14 & 15 \\\\\n",
    "16 & 17 & 18 & 19 & 20 & 21 & 22 & 23 \\\\\n",
    "24 & 25 & 26 & 27 & 28 & 29 & 30 & 31 \\\\\n",
    "32 & 33 & 34 & 35 & 36 & 37 & 38 & 39 \\\\\n",
    "40 & 41 & 42 & 43 & 44 & 45 & 46 & 47 \\\\\n",
    "48 & 49 & 50 & 51 & 52 & 53 & 54 & 55 \\\\\n",
    "56 & 57 & 58 & 59 & 60 & 61 & 62 & 63\n",
    "\\end{vmatrix}$\n",
    "\n",
    "There are 10 terminal states as follows:\n",
    "\n",
    "$S_{\\text{terminal}} = \\{19, 29, 35, 41, 42, 49, 52, 54, 59, 63\\}$"
   ]
  },
  {
   "cell_type": "markdown",
   "metadata": {},
   "source": [
    "## SARSA Learning"
   ]
  },
  {
   "cell_type": "markdown",
   "metadata": {},
   "source": [
    "$\\begin{align}\n",
    "q_{\\pi}(s,a) & = \\mathbb E_{\\pi} [G_t | S_t = s, A_t = a] \\\\\n",
    "&= \\mathbb E_{\\pi} [R_{t+1} + \\gamma q_{\\pi}(S_{t+1}, A_{t+1}) | S_t = s, A_t = a] \n",
    "\\end{align}$\n",
    "\n",
    "$q_*(s,a) = \\max_{\\pi} q_{\\pi}(s,a)$  \n",
    "\n",
    "$\\pi_*(s,a) = \\begin{cases}\n",
    "1 & \\text{if } a= \\text{argmax}_{a \\in A} q_\\star(s,a) \\\\\n",
    "0 & \\text{otherwise}\n",
    "\\end{cases}$\n",
    "\n",
    "$Q(S_t, A_t) \\leftarrow Q(S_t, A_t) + \\alpha \\left( R_{t+1} + \\gamma Q(S_{t+1}, A_{t+1}) - Q(S_t, A_t) \\right)$\n",
    "\n",
    "$\\pi \\leftarrow \\epsilon \\text{-greedy(Q)}$"
   ]
  },
  {
   "cell_type": "code",
   "execution_count": 7,
   "metadata": {
    "ExecuteTime": {
     "end_time": "2019-10-30T07:09:54.865093Z",
     "start_time": "2019-10-30T07:09:54.842021Z"
    }
   },
   "outputs": [],
   "source": [
    "n_state = env.observation_space.n\n",
    "n_action = env.action_space.n\n",
    "n_episode = 1000\n",
    "GAMMA = .9\n",
    "EPSILON = .3\n",
    "ALPHA = .1"
   ]
  },
  {
   "cell_type": "code",
   "execution_count": 8,
   "metadata": {
    "ExecuteTime": {
     "end_time": "2019-10-30T07:09:56.531454Z",
     "start_time": "2019-10-30T07:09:56.152300Z"
    }
   },
   "outputs": [
    {
     "data": {
      "application/vnd.jupyter.widget-view+json": {
       "model_id": "3be09000797a4181a0f6286c066ddcdd",
       "version_major": 2,
       "version_minor": 0
      },
      "text/plain": [
       "HBox(children=(IntProgress(value=0, max=1000), HTML(value='')))"
      ]
     },
     "metadata": {},
     "output_type": "display_data"
    },
    {
     "name": "stdout",
     "output_type": "stream",
     "text": [
      "\n"
     ]
    }
   ],
   "source": [
    "terminal_states = [19, 29, 35, 41, 42, 49, 52, 54, 59, 63]\n",
    "\n",
    "Q_table = np.random.uniform(low=0.0, high=0.00000001, size=(n_state, n_action))\n",
    "for s in terminal_states:\n",
    "    Q_table[s] = 0\n",
    "    \n",
    "for episode in tqdm(range(n_episode)):\n",
    "    state = env.reset()\n",
    "    done = False\n",
    "    \n",
    "    if np.random.uniform() < EPSILON:\n",
    "        action = env.action_space.sample()\n",
    "    else:\n",
    "        action = np.argmax(Q_table[state])\n",
    "        \n",
    "    while not done:\n",
    "        next_state, reward, done, info = env.step(action)\n",
    "        if np.random.uniform() < EPSILON:\n",
    "            next_action = env.action_space.sample()\n",
    "        else:\n",
    "            next_action = np.argmax(Q_table[next_state])\n",
    "        \n",
    "        target = reward + GAMMA * Q_table[next_state, next_action]\n",
    "        delta = target - Q_table[state][action]\n",
    "        Q_table[state][action] += ALPHA * delta\n",
    "        state, action = next_state, next_action"
   ]
  },
  {
   "cell_type": "markdown",
   "metadata": {},
   "source": [
    "## Solution"
   ]
  },
  {
   "cell_type": "code",
   "execution_count": 9,
   "metadata": {
    "ExecuteTime": {
     "end_time": "2019-10-30T07:10:13.715601Z",
     "start_time": "2019-10-30T07:10:06.107800Z"
    }
   },
   "outputs": [
    {
     "data": {
      "text/plain": [
       "  (Down)\n",
       "SFFFFFFF\n",
       "FFFFFFFF\n",
       "FFFHFFFF\n",
       "FFFFFHFF\n",
       "FFFHFFFF\n",
       "FHHFFFHF\n",
       "FHFFHFHF\n",
       "FFFHFFF\u001b[41mG\u001b[0m\n"
      ]
     },
     "metadata": {},
     "output_type": "display_data"
    },
    {
     "name": "stdout",
     "output_type": "stream",
     "text": [
      "\n",
      "Success!\n"
     ]
    }
   ],
   "source": [
    "state = env.reset()\n",
    "done = False\n",
    "\n",
    "world = env.render(mode='ansi')\n",
    "display(Pretty(world))\n",
    "sleep(.5)\n",
    "\n",
    "while not done:\n",
    "    action = np.argmax(Q_table[state])\n",
    "    state, reward, done, info = env.step(action)\n",
    "    \n",
    "    world = env.render(mode='ansi')\n",
    "    clear_output(wait=True)\n",
    "    display(Pretty(world))\n",
    "    sleep(.5)\n",
    "    \n",
    "    if done and state == 63:\n",
    "        print('\\nSuccess!')"
   ]
  },
  {
   "cell_type": "code",
   "execution_count": null,
   "metadata": {},
   "outputs": [],
   "source": []
  }
 ],
 "metadata": {
  "kernelspec": {
   "display_name": "Python 3",
   "language": "python",
   "name": "python3"
  },
  "language_info": {
   "codemirror_mode": {
    "name": "ipython",
    "version": 3
   },
   "file_extension": ".py",
   "mimetype": "text/x-python",
   "name": "python",
   "nbconvert_exporter": "python",
   "pygments_lexer": "ipython3",
   "version": "3.6.0"
  },
  "toc": {
   "base_numbering": 1,
   "nav_menu": {},
   "number_sections": true,
   "sideBar": true,
   "skip_h1_title": true,
   "title_cell": "Table of Contents",
   "title_sidebar": "Contents",
   "toc_cell": false,
   "toc_position": {},
   "toc_section_display": true,
   "toc_window_display": true
  }
 },
 "nbformat": 4,
 "nbformat_minor": 2
}
